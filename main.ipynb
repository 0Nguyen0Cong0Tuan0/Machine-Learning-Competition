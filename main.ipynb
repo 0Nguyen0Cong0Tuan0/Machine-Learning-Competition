{
 "cells": [
  {
   "cell_type": "markdown",
   "metadata": {},
   "source": [
    "<center>\n",
    "\n",
    "# **Introduction to Machine Learning Project CLC-24-2**\n",
    "\n",
    "<center>"
   ]
  },
  {
   "cell_type": "markdown",
   "metadata": {},
   "source": [
    "## **Student Information**\n",
    "\n",
    "<center>\n",
    "\n",
    "| **Student Name** | **Student ID** |\n",
    "| --- | --- |\n",
    "| Đặng Thanh Tú | 22127432 |\n",
    "| Nguyễn Công Tuấn | 22127436 |\n",
    "\n",
    "</center>"
   ]
  },
  {
   "cell_type": "markdown",
   "metadata": {},
   "source": [
    "## **Import modules/packages**"
   ]
  },
  {
   "cell_type": "markdown",
   "metadata": {},
   "source": [
    "$pip install numpy pandas matplotlib seaborn"
   ]
  },
  {
   "cell_type": "code",
   "execution_count": 4,
   "metadata": {},
   "outputs": [],
   "source": [
    "import numpy as np\n",
    "import pandas as pd\n",
    "import matplotlib.pyplot as plt\n",
    "import seaborn as sns\n",
    "\n",
    "import torch"
   ]
  },
  {
   "cell_type": "markdown",
   "metadata": {},
   "source": [
    "## **Exploratory Data Analysis (EDA)**\n",
    "\n",
    "This step concerns the analysis of obtained data to *understand its characteristics* and to *identify potential issues that may affect modeling*. There are several tasks related to this step, including but not limit to:"
   ]
  },
  {
   "cell_type": "markdown",
   "metadata": {},
   "source": [
    "### **Data Collection**\n",
    "\n",
    "Gather data either to have a preliminary dataset for the first time or to supplement the data from previous phases(s)."
   ]
  },
  {
   "cell_type": "code",
   "execution_count": 5,
   "metadata": {},
   "outputs": [],
   "source": [
    "# We will handle later"
   ]
  },
  {
   "cell_type": "markdown",
   "metadata": {},
   "source": [
    "### **Data Preprocessing**\n",
    "\n",
    "Clean the data by *handling missing values*, *normalizing* or *standardizing features* and *encoding categorical variables* as needed."
   ]
  },
  {
   "cell_type": "markdown",
   "metadata": {},
   "source": [
    "**Read the dataset**"
   ]
  },
  {
   "cell_type": "code",
   "execution_count": 14,
   "metadata": {},
   "outputs": [],
   "source": [
    "train = pd.read_csv('../data/train.csv')"
   ]
  },
  {
   "cell_type": "markdown",
   "metadata": {},
   "source": [
    "### **Feature Engineering**\n",
    "\n",
    "*Extract* or *construct* new features as you need to *augment the newly obtained data* or to *mitigate problems from prior phase(s)*."
   ]
  },
  {
   "cell_type": "markdown",
   "metadata": {},
   "source": [
    "## **Model Development**\n",
    "\n",
    "This is when you develops models to *capture the patterns revealed during the analysis*. This step involves *selecting appropriate modeling approach* and *design a detailed algorithm*."
   ]
  },
  {
   "cell_type": "markdown",
   "metadata": {},
   "source": [
    "### **Model Selection**\n",
    "\n",
    "Research to find an appropriate modeling algorithm that may help you *capture the patterns within this data* as well as to *define relevant information about the model* including its hyper-parameters and training procedure."
   ]
  },
  {
   "cell_type": "markdown",
   "metadata": {},
   "source": [
    "### **Training**\n",
    "\n",
    "*Train the selected algorithm* with chosen approach on the prepared dataset to obtain a final model."
   ]
  },
  {
   "cell_type": "markdown",
   "metadata": {},
   "source": [
    "## **Model Evaluation**\n",
    "\n",
    "You will then *evaluate that model's performance* using *metrics* relevant to the problem as well as desired result of the project and *perform analysis* on the trained model's limitations to *identify rooms for improvement*."
   ]
  },
  {
   "cell_type": "markdown",
   "metadata": {},
   "source": [
    "### **Evaluation**\n",
    "\n",
    "*Assess the model* using *metrics* such as mean squared error (MSE), mean percentage error (MPE) or root-mean-squared logarithmic error (RMSLE) for *regression problems* and accuracy, precision, recall or AUC-ROC for *classification problems*."
   ]
  },
  {
   "cell_type": "markdown",
   "metadata": {},
   "source": [
    "### **Limitation Analysis**\n",
    "\n",
    "*Analysis the erroneous cases* that are incorrectly predicted by the model which are reflected by the above metrics and *identify their properties* as well as *reasons for their inaccuracy*"
   ]
  }
 ],
 "metadata": {
  "kernelspec": {
   "display_name": "Python 3",
   "language": "python",
   "name": "python3"
  },
  "language_info": {
   "codemirror_mode": {
    "name": "ipython",
    "version": 3
   },
   "file_extension": ".py",
   "mimetype": "text/x-python",
   "name": "python",
   "nbconvert_exporter": "python",
   "pygments_lexer": "ipython3",
   "version": "3.12.8"
  }
 },
 "nbformat": 4,
 "nbformat_minor": 2
}
