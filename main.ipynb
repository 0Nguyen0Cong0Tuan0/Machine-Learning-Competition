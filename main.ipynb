{
 "cells": [
  {
   "cell_type": "markdown",
   "metadata": {},
   "source": [
    "<center>\n",
    "\n",
    "# **Introduction to Machine Learning Project CLC-24-2**\n",
    "\n",
    "<center>"
   ]
  },
  {
   "cell_type": "markdown",
   "metadata": {},
   "source": [
    "## **Student Information**\n",
    "\n",
    "<center>\n",
    "\n",
    "| **Student Name** | **Student ID** |\n",
    "| --- | --- |\n",
    "| Đặng Thanh Tú | 22127432 |\n",
    "| Nguyễn Công Tuấn | 22127436 |\n",
    "\n",
    "<center>"
   ]
  }
 ],
 "metadata": {
  "language_info": {
   "name": "python"
  }
 },
 "nbformat": 4,
 "nbformat_minor": 2
}
